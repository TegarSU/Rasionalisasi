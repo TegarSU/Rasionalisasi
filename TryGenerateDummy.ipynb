{
 "cells": [
  {
   "cell_type": "code",
   "execution_count": 76,
   "metadata": {},
   "outputs": [],
   "source": [
    "import sys\n",
    "from os.path import abspath,join\n",
    "sys.path.append(abspath(join('..', 'module')))\n",
    "\n",
    "from filepath import *\n",
    "from pandas.io import sql\n",
    "from sqlalchemy import create_engine\n",
    "from random import sample\n",
    "\n",
    "import numpy as np\n",
    "\n",
    "# Import dataframe into MySQL\n",
    "database_username = 'root'\n",
    "database_password = ''\n",
    "database_ip       = '127.0.0.1'\n",
    "database_name     = 'akupintar_db'\n",
    "database_connection = create_engine('mysql+mysqlconnector://{0}:{1}@{2}/{3}'.\n",
    "                                    format(database_username, database_password, \n",
    "                                           database_ip, database_name))"
   ]
  },
  {
   "cell_type": "code",
   "execution_count": 77,
   "metadata": {},
   "outputs": [],
   "source": [
    "#Ini gak perlu\n",
    "def generate_nilai(n_pendaftar):\n",
    "    # Generate 100 nilai SAINTEK\n",
    "\n",
    "    # I. Nilai Tes Potensi Skolastik, disesuaikan dengan nilain maksimum dan minimum dari rekapitulasi LTMPT\n",
    "    # 1. Kemampuan Penalaran Umum\n",
    "    k_penalaran = np.random.randint(98, 891, n_pendaftar).tolist()\n",
    "    # 2. Kemampuan Kuantitatif\n",
    "    k_kuantitaif = np.random.randint(244, 924, n_pendaftar).tolist()\n",
    "    # 3. Pengetahuan & Pemahaman Umum\n",
    "    pengetahuan_umum = np.random.randint(204, 848, n_pendaftar).tolist()\n",
    "    # 4. Kemampuan Memahami Bacaan & Menulis\n",
    "    baca_tulis = np.random.randint(73, 910, n_pendaftar).tolist()\n",
    "\n",
    "    # II. Nilai Tes Kompetensi Akademik\n",
    "    # 1. Matematika Saintek\n",
    "    matematika_saintek = np.random.randint(219, 1123, n_pendaftar).tolist()\n",
    "    # 2. Fisika\n",
    "    fisika = np.random.randint(227, 1070, n_pendaftar).tolist()\n",
    "    # 3. Kimia\n",
    "    kimia = np.random.randint(213, 1067, n_pendaftar).tolist()\n",
    "    # 4. Biologi\n",
    "    biologi = np.random.randint(237, 1000, n_pendaftar).tolist()\n",
    "\n",
    "    # Buat Dataframe\n",
    "    newArray = {'k_penalaran': k_penalaran, 'k_kuantitaif': k_kuantitaif, 'pengetahuan_umum':pengetahuan_umum, \n",
    "                'baca_tulis':baca_tulis, 'matematika_saintek': matematika_saintek, 'fisika':fisika, \n",
    "                'kimia':kimia, 'biologi':biologi}\n",
    "    data_nilai  = pd.DataFrame(newArray)\n",
    "    \n",
    "    #Perhitungan statistik\n",
    "    data_nilai['rerata'] = data_nilai.mean(axis=1)\n",
    "    data_nilai['userId'] = data_nilai.index\n",
    "    \n",
    "    return data_nilai\n",
    "\n",
    "def generate_pilihan(n_user,n_jurusan):\n",
    "    dict_user = {}\n",
    "\n",
    "    for i in n_user:\n",
    "        result = sample(range(0, n_jurusan), 2)\n",
    "        dict_user[i] = result\n",
    "        \n",
    "    data = pd.DataFrame(dict_user).melt(var_name='userId',value_name='jurusanId')\n",
    "\n",
    "    return data"
   ]
  },
  {
   "cell_type": "code",
   "execution_count": 78,
   "metadata": {},
   "outputs": [],
   "source": [
    "#Generate Data Nilai\n",
    "data_nilai = generate_nilai(10000)\n",
    "data_pilihan = generate_pilihan(data_nilai.userId.tolist(),4)\n",
    "\n",
    "# #save DB\n",
    "data_nilai.to_sql(con=database_connection, name='rasionalisasi_nilai', if_exists='replace',index=False)\n",
    "data_pilihan.to_sql(con=database_connection, name='rasionalisasi_pilihan', if_exists='append',index=False)"
   ]
  }
 ],
 "metadata": {
  "kernelspec": {
   "display_name": "Python 3",
   "language": "python",
   "name": "python3"
  },
  "language_info": {
   "codemirror_mode": {
    "name": "ipython",
    "version": 3
   },
   "file_extension": ".py",
   "mimetype": "text/x-python",
   "name": "python",
   "nbconvert_exporter": "python",
   "pygments_lexer": "ipython3",
   "version": "3.6.9"
  }
 },
 "nbformat": 4,
 "nbformat_minor": 2
}
