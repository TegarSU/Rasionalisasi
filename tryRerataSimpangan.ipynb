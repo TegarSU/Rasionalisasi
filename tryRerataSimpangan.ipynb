{
 "cells": [
  {
   "cell_type": "code",
   "execution_count": 1,
   "metadata": {},
   "outputs": [],
   "source": [
    "# import sys\n",
    "# from os.path import abspath,join\n",
    "# sys.path.append(abspath(join('..', 'module')))\n",
    "\n",
    "import numpy as np\n",
    "import pandas as pd\n",
    "from statistics import mean"
   ]
  },
  {
   "cell_type": "code",
   "execution_count": 2,
   "metadata": {},
   "outputs": [],
   "source": [
    "data = pd.read_csv('../data/univ_sbm_with_kode_database.csv')\n",
    "data.facultydepartmentid.fillna(0, inplace=True)\n",
    "data.accreditation.fillna('D', inplace=True)\n",
    "data.rataan = data.rataan.str.replace(',','.')\n",
    "data.s_baku = data.s_baku.str.replace(',','.')\n",
    "data['max'] = data['max'].str.replace(',','.')\n",
    "data['min'] = data['min'].str.replace(',','.')\n",
    "data.rataan = data.rataan.astype('float')\n",
    "data.s_baku = data.s_baku.astype('float')\n",
    "data['max'] = data['max'].astype('float')\n",
    "data['min'] = data['min'].astype('float')\n",
    "data.facultydepartmentid = data.facultydepartmentid.astype('int')\n",
    "\n",
    "keketatan = []\n",
    "for index, row in data.iterrows():\n",
    "    if row['peminat_2019'] != 0:\n",
    "        ketat = (row['daya_tampung_2020']/row['peminat_2019'])*100\n",
    "        keketatan.append(ketat)\n",
    "    else:\n",
    "        keketatan.append(0)\n",
    "data['persentase_keketatan'] = keketatan\n"
   ]
  },
  {
   "cell_type": "code",
   "execution_count": 3,
   "metadata": {},
   "outputs": [],
   "source": [
    "rataan_baru = []\n",
    "s_baku_baru = []\n",
    "for index, row in data.iterrows():\n",
    "    if np.isnan(row['rataan']):\n",
    "        try:\n",
    "            jurusan = row['prodi_database']\n",
    "            akreditasi = row['accreditation']\n",
    "            keketatan = row['persentase_keketatan']\n",
    "            tabel = data.loc[(data['prodi_database']==str(''.join(jurusan.split()))) & (data['accreditation']==str(akreditasi))]\n",
    "            not_null = tabel[pd.notnull(tabel['rataan'])]\n",
    "            mean_rataan = mean(not_null['rataan'].tolist())\n",
    "            mean_s_baku = mean(not_null['s_baku'].tolist())\n",
    "            mean_keketatan = mean(not_null['persentase_keketatan'].tolist())\n",
    "            if keketatan > 100:\n",
    "                rataan = float('NaN')\n",
    "                s_baku = float('NaN')\n",
    "            else:\n",
    "                rataan = ((100-keketatan)/(100-mean_keketatan))*mean_rataan\n",
    "                s_baku = ((100-keketatan)/(100-mean_keketatan))*mean_s_baku\n",
    "        except Exception as e:\n",
    "            rataan = float('NaN')\n",
    "            s_baku = float('NaN')\n",
    "    else:\n",
    "        rataan = row['rataan']\n",
    "        s_baku = row['s_baku']\n",
    "    \n",
    "    rataan_baru.append(rataan)\n",
    "    s_baku_baru.append(s_baku)\n",
    "    \n",
    "data['rataan_baru'] = rataan_baru\n",
    "data['s_baku_baru'] = s_baku_baru"
   ]
  },
  {
   "cell_type": "code",
   "execution_count": 6,
   "metadata": {},
   "outputs": [
    {
     "data": {
      "text/plain": [
       "1996"
      ]
     },
     "execution_count": 6,
     "metadata": {},
     "output_type": "execute_result"
    }
   ],
   "source": [
    "len(data) - len(data.loc[data.rataan_baru.isnull()])"
   ]
  },
  {
   "cell_type": "code",
   "execution_count": 9,
   "metadata": {},
   "outputs": [],
   "source": [
    "data.to_csv('../data/univ_sbm_with_rataan.csv',index=False)"
   ]
  }
 ],
 "metadata": {
  "kernelspec": {
   "display_name": "Python 3",
   "language": "python",
   "name": "python3"
  },
  "language_info": {
   "codemirror_mode": {
    "name": "ipython",
    "version": 3
   },
   "file_extension": ".py",
   "mimetype": "text/x-python",
   "name": "python",
   "nbconvert_exporter": "python",
   "pygments_lexer": "ipython3",
   "version": "3.8.1"
  }
 },
 "nbformat": 4,
 "nbformat_minor": 2
}
